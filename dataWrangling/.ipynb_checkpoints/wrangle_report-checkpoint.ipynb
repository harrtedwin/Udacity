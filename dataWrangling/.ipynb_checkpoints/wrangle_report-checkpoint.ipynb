{
 "cells": [
  {
   "cell_type": "markdown",
   "metadata": {},
   "source": [
    "## Reporting: wragle_report\n",
    "* Create a **300-600 word written report** called \"wrangle_report.pdf\" or \"wrangle_report.html\" that briefly describes your wrangling efforts. This is to be framed as an internal document."
   ]
  },
  {
   "cell_type": "markdown",
   "metadata": {},
   "source": [
    "# Introduction\n",
    "\n",
    "In this paper we will describe our wrangling effort made in the section of wrangling weRateDog project\n",
    "\n",
    "Data wrangling consists of:\n",
    "\n",
    "- Gathering data\n",
    "- Assessing data\n",
    "- Cleaning data\n",
    "\n",
    "## Gathering\n",
    "\n",
    "Gathering Data for this Project composed from three pieces of data as described below:\n",
    "\n",
    "- The WeRateDogs Twitter archive. We manually downloaded this file manually by clicking the following link: [twitter_archive_enhanced.csv](https://d17h27t6h515a5.cloudfront.net/topher/2017/August/59a4e958_twitter-archive-enhanced/twitter-archive-enhanced.csv)\n",
    "- The tweet image predictions, i.e., what breed of dog (or other object, animal, etc.) is present in each tweet according to a neural network. This file (image_predictions.tsv) hosted on Udacity's servers and we downloaded it programmatically using python Requests library on the following (URL of the file: https://d17h27t6h515a5.cloudfront.net/topher/2017/August/599fd2ad_image-predictions/image-predictions.tsv)\n",
    "- Each tweet's retweet count and favorite (i.e. \"like\") count and any additional data we found interesting. Using the tweet IDs in the WeRateDogs Twitter archive, we could query the Twitter API for each tweet's JSON data using Python's Tweepy library and store each tweet's entire set of JSON data in a file called tweet_json.txt file. Each tweet's JSON data stored in a line.\n",
    "\n",
    "### Gather: Summary\n",
    "\n",
    "Gathering was the first step in the data wrangling process. We could finish the high-level gathering process:\n",
    "- Obtaining data\n",
    "    - Getting data from an existing file (twitter-archive-enhanced.csv) Reading from csv file using pandas\n",
    "    - Downloading a file from the internet (image-predictions.tsv) Downloading file using requests\n",
    "    - Querying an API (tweet_json.txt) Get JSON object of all the tweet_ids using Tweepy\n",
    "- Importing that data into our programming environment (Jupyter Notebook)\n",
    "\n",
    "## Assessing\n",
    "\n",
    "After gathering each of the above pieces of data, assess them visually and programmatically for quality and tidiness issues was our next step. We could detect and document the following quality issues and tidiness issues.\n",
    "\n",
    "### Quality\n",
    "*Completeness, Validity, Accuracy, Consistency => a.k.a content issues*\n",
    "> **archive dataset**\n",
    "- in_reply_to_status_id, in_reply_to_user_id, retweeted_status_id, retweeted_status_user_id should be intergs instead of float\n",
    "- retweeted_status_timestamp, timestamp should be datetime instead of object (string)\n",
    "- The numerator and denominator columns have invalid values\n",
    "- In several columns null objects are non-null (None to NaN)\n",
    "- Name column have invalid names i.e 'None', 'a', 'an'\n",
    "- We only want original ratings (no retweets) that have images\n",
    "- We may want to change this columns type (in_reply_to_status_id, in_reply_to_user_id, retweeted_status_id, retweeted_status_user_id and tweet_id) to string because We don't want any operations on them\n",
    "> **images dataset**\n",
    "- Missing values from images dataset (2075 rows instead of 2356)\n",
    "- Some tweet_ids have the same jpg_url\n",
    "- Some tweets are have 2 different tweet_id one redirect to the other\n",
    "> **json_tweeets dataset**\n",
    "- This tweet_id (666020888022790149) duplicated 8 times\n",
    "\n",
    "### Tidiness\n",
    "*Untidy data ---- structural issues*\n",
    "- No need to all the informations in images dataset, (tweet_id and jpg_url what matters)\n",
    "- Various stages of dogs in columns instead of rows archives dataset\n",
    "- We may want to add a gender column from the text columns in archives dataset\n",
    "- All tables should be part of one dataset\n",
    "\n",
    "## Cleaning\n",
    "\n",
    "Cleaning our data is the third step in data wrangling. It is where we fixed the quality and tidiness issues that we identified in the assess step.\n",
    "\n",
    "We used the two types of cleaning, the manual and programmatic even the manual not recommended but the issues were one-off occurrences. Our process was Define, Code and Test and we were always making a copy of tha dataset even we made the copy in file to test the change before applying to the main dataset. We didn't spot all the quality and tidiness assessments at the assessing data section, so we have been iterating and revisiting assessing to add these assessments to our notes.\n",
    "\n",
    "# Conclusion\n",
    "\n",
    "Data wrangling indeed is a core skill that everyone who works with data should be familiar with since so much of the world's data isn't clean. If we analyze, visualize, or model our data before we wrangle it, our consequences could be making mistakes, missing out on cool insights, and wasting time. We couldn't be able to make some of the visualization without wrangling (i.e dog gender partition)."
   ]
  }
 ],
 "metadata": {
  "anaconda-cloud": {},
  "kernelspec": {
   "display_name": "Python 3",
   "language": "python",
   "name": "python3"
  },
  "language_info": {
   "codemirror_mode": {
    "name": "ipython",
    "version": 3
   },
   "file_extension": ".py",
   "mimetype": "text/x-python",
   "name": "python",
   "nbconvert_exporter": "python",
   "pygments_lexer": "ipython3",
   "version": "3.8.8"
  }
 },
 "nbformat": 4,
 "nbformat_minor": 4
}
